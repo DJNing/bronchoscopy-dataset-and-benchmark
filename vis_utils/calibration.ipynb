{
 "cells": [
  {
   "cell_type": "code",
   "execution_count": 10,
   "metadata": {},
   "outputs": [],
   "source": [
    "import evo\n",
    "import numpy as np\n",
    "import evo.core.lie_algebra as lie\n",
    "from evo.core import trajectory\n",
    "from evo.tools import plot, file_interface, log\n",
    "import copy\n",
    "import numpy as np\n",
    "\n",
    "import matplotlib.pyplot as plt\n",
    "root_path = '/home/dj/Documents/new_lung_exp/vo/calibration/'\n",
    "\n",
    "param_list = []\n",
    "\n",
    "for i in range(2):\n",
    "\n",
    "    gt_file = root_path + 'traj_gt_S055_%s.txt' % i\n",
    "    est_file = root_path + 'LOFTR_traj_est_S055_%s.txt' % i\n",
    "\n",
    "    traj_ref = file_interface.read_tum_trajectory_file(gt_file)\n",
    "    traj_est = file_interface.read_tum_trajectory_file(est_file)\n",
    "\n",
    "    traj_est_aligned_scaled = copy.deepcopy(traj_est)\n",
    "    param = traj_est_aligned_scaled.align(traj_ref, correct_scale=True)\n",
    "    param_list += [param]"
   ]
  },
  {
   "cell_type": "code",
   "execution_count": 11,
   "metadata": {},
   "outputs": [
    {
     "name": "stdout",
     "output_type": "stream",
     "text": [
      "(array([[-0.27330463,  0.42188546, -0.86447513],\n",
      "       [-0.71002427, -0.69478948, -0.11459978],\n",
      "       [-0.6489762 ,  0.58247767,  0.48943809]]), array([ 0.02100043, -0.00521101,  0.03950659]), 0.5589157145949386)\n"
     ]
    }
   ],
   "source": [
    "print(param_list[0])\n",
    "\n",
    "def print_param(param_list):\n",
    "    for i in range(len(param_list)):\n",
    "        pass\n",
    "    pass"
   ]
  },
  {
   "cell_type": "code",
   "execution_count": 12,
   "metadata": {},
   "outputs": [
    {
     "data": {
      "text/plain": [
       "(array([[ 0.47379374,  0.6516939 , -0.592296  ],\n",
       "        [-0.8806326 ,  0.34879223, -0.3206715 ],\n",
       "        [-0.00239142,  0.67352732,  0.73915846]]),\n",
       " array([ 0.01572858, -0.0116035 ,  0.01469639]),\n",
       " 0.7092234553988693)"
      ]
     },
     "execution_count": 12,
     "metadata": {},
     "output_type": "execute_result"
    }
   ],
   "source": [
    "param_list[1]"
   ]
  },
  {
   "cell_type": "code",
   "execution_count": null,
   "metadata": {},
   "outputs": [],
   "source": []
  }
 ],
 "metadata": {
  "interpreter": {
   "hash": "44a3515361d744c963f553908ed562df9b9b7b89f2b0614904870dd5c548749d"
  },
  "kernelspec": {
   "display_name": "Python 3.6.10 ('pyslam')",
   "language": "python",
   "name": "python3"
  },
  "language_info": {
   "codemirror_mode": {
    "name": "ipython",
    "version": 3
   },
   "file_extension": ".py",
   "mimetype": "text/x-python",
   "name": "python",
   "nbconvert_exporter": "python",
   "pygments_lexer": "ipython3",
   "version": "3.6.10"
  },
  "orig_nbformat": 4
 },
 "nbformat": 4,
 "nbformat_minor": 2
}
